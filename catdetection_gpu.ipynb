{
  "nbformat": 4,
  "nbformat_minor": 0,
  "metadata": {
    "colab": {
      "provenance": [],
      "mount_file_id": "18zg0iajKqTCUdu09lP7bx_zAawnGG9Kg",
      "authorship_tag": "ABX9TyPj9FZliwhXr+Fk3W4L2000",
      "include_colab_link": true
    },
    "kernelspec": {
      "name": "python3",
      "display_name": "Python 3"
    },
    "language_info": {
      "name": "python"
    },
    "accelerator": "GPU",
    "gpuClass": "standard"
  },
  "cells": [
    {
      "cell_type": "markdown",
      "metadata": {
        "id": "view-in-github",
        "colab_type": "text"
      },
      "source": [
        "<a href=\"https://colab.research.google.com/github/gustvjor2005/catdetection/blob/main/catdetection_gpu.ipynb\" target=\"_parent\"><img src=\"https://colab.research.google.com/assets/colab-badge.svg\" alt=\"Open In Colab\"/></a>"
      ]
    },
    {
      "cell_type": "code",
      "execution_count": null,
      "metadata": {
        "id": "VWyToZxEKK4v"
      },
      "outputs": [],
      "source": [
        "#cat detection\n",
        "import h5py\n",
        "import numpy as np\n",
        "import torch\n",
        "import torch.optim as optim\n",
        "import torch.nn as nn\n",
        "from torch.utils.data import Dataset, DataLoader\n",
        "\n",
        "torch.manual_seed(2)\n",
        "device = torch.device(\"cuda\" if torch.cuda.is_available() else \"cpu\")"
      ]
    },
    {
      "cell_type": "code",
      "source": [
        "train_dataset = h5py.File('/content/drive/MyDrive/X-Colab Notebooks/datasets/cat/train_catvnoncat.h5')\n",
        "test_dataset = h5py.File('/content/drive/MyDrive/X-Colab Notebooks/datasets/cat/test_catvnoncat.h5')\n",
        "\n",
        "#tamaño 209\n",
        "t_x = np.array(train_dataset[\"train_set_x\"])/255\n",
        "t_y = np.array(train_dataset[\"train_set_y\"])\n",
        "#tamaño 50\n",
        "ts_x = np.array(test_dataset[\"test_set_x\"])/255\n",
        "ts_y = np.array(test_dataset[\"test_set_y\"])\n",
        "\n",
        "ts_xx = torch.tensor(ts_x, dtype=torch.float).view(-1, 64*64*3)\n",
        "ts_yy = torch.tensor(ts_y, dtype=torch.float).view(ts_x.shape[0],1)"
      ],
      "metadata": {
        "id": "DwqblHhhO39L"
      },
      "execution_count": null,
      "outputs": []
    },
    {
      "cell_type": "code",
      "source": [
        "class Datas(Dataset):\n",
        "\n",
        "  def __init__(self):\n",
        "    self.x = torch.tensor(t_x, dtype=torch.float).view(-1, 64*64*3)\n",
        "    self.y = torch.tensor(t_y, dtype=torch.float).view(t_x.shape[0],1)\n",
        "    self.len = t_x.shape[0]\n",
        "\n",
        "  def __getitem__(self, index):\n",
        "    return self.x[index], self.y[index]\n",
        "\n",
        "  def __len__(self):\n",
        "    return self.len"
      ],
      "metadata": {
        "id": "HSuJ8bV9P8UF"
      },
      "execution_count": null,
      "outputs": []
    },
    {
      "cell_type": "code",
      "source": [
        "class Net(nn.Module):\n",
        "\n",
        "  def __init__(self, i_, h1_, h2_,h3_, out_, p=.0):\n",
        "    super().__init__()\n",
        "    self.linear1 = nn.Linear(i_, h1_)\n",
        "    self.linear2 = nn.Linear(h1_, h2_)\n",
        "    self.linear3 = nn.Linear(h2_, h3_)\n",
        "    self.linear4 = nn.Linear(h3_, out_)\n",
        "\n",
        "  def forward(self, x):\n",
        "    x = torch.relu(self.linear1(x))\n",
        "    x = torch.relu(self.linear2(x))\n",
        "    x = torch.relu(self.linear3(x))\n",
        "    x = torch.sigmoid(self.linear4(x))\n",
        "    \n",
        "    return x"
      ],
      "metadata": {
        "id": "_aFD3fWAUrVW"
      },
      "execution_count": null,
      "outputs": []
    },
    {
      "cell_type": "code",
      "source": [
        "class Net_drop(nn.Module):\n",
        "\n",
        "  def __init__(self, i_, h1_, h2_,h3_, out_, p=.0):\n",
        "    super().__init__()\n",
        "    self.drop = nn.Dropout(p=p)\n",
        "    self.linear1 = nn.Linear(i_, h1_)\n",
        "    self.linear2 = nn.Linear(h1_, h2_)\n",
        "    self.linear3 = nn.Linear(h2_, h3_)\n",
        "    self.linear4 = nn.Linear(h3_, out_)\n",
        "\n",
        "  def forward(self, x):\n",
        "    x = torch.relu(self.linear1(x))\n",
        "    x = self.drop(x)\n",
        "    x = torch.relu(self.linear2(x))\n",
        "    x = self.drop(x)\n",
        "    x = torch.relu(self.linear3(x))\n",
        "    x = self.drop(x)\n",
        "    x = torch.sigmoid(self.linear4(x))\n",
        "    \n",
        "    return x"
      ],
      "metadata": {
        "id": "3AcLmrieWByg"
      },
      "execution_count": null,
      "outputs": []
    },
    {
      "cell_type": "code",
      "source": [
        "class Net_xav(nn.Module):\n",
        "\n",
        "  def __init__(self, i_, h1_, h2_,h3_, out_, p=.0):\n",
        "    super().__init__()\n",
        "    self.linear1 = nn.Linear(i_, h1_)\n",
        "    torch.nn.init.xavier_uniform_(self.linear1.weight)\n",
        "    self.linear2 = nn.Linear(h1_, h2_)\n",
        "    torch.nn.init.xavier_uniform_(self.linear2.weight)\n",
        "    self.linear3 = nn.Linear(h2_, h3_)\n",
        "    torch.nn.init.xavier_uniform_(self.linear3.weight)\n",
        "    self.linear4 = nn.Linear(h3_, out_)\n",
        "    torch.nn.init.xavier_uniform_(self.linear4.weight)\n",
        "\n",
        "  def forward(self, x):\n",
        "    x = torch.tanh(self.linear1(x))\n",
        "    x = torch.tanh(self.linear2(x))\n",
        "    x = torch.tanh(self.linear3(x))\n",
        "    x = torch.sigmoid(self.linear4(x))\n",
        "    \n",
        "    return x"
      ],
      "metadata": {
        "id": "hjeM3WuRDRDY"
      },
      "execution_count": null,
      "outputs": []
    },
    {
      "cell_type": "code",
      "source": [
        "def crit(yhat, y):\n",
        "  c = -torch.mean(y * torch.log(yhat) + (1 -y) * torch.log(1 -yhat))\n",
        "  return c"
      ],
      "metadata": {
        "id": "7ExkgcVu330P"
      },
      "execution_count": null,
      "outputs": []
    },
    {
      "cell_type": "code",
      "source": [
        "#dataset\n",
        "dset = Datas()\n",
        "#dataloader\n",
        "dataloader = DataLoader(dataset=dset, batch_size=10)\n",
        "#criterion\n",
        "crit = nn.BCELoss()\n",
        "#modelo\n",
        "#model = Net(64*64*3, 100, 300, 100, 1, p=.0)\n",
        "model = Net(64*64*3, 100, 300, 100, 1)\n",
        "\n",
        "#optimizador\n",
        "optimizer = optim.SGD(model.parameters(), lr=.01, momentum=.2)"
      ],
      "metadata": {
        "id": "CZ4x0szuXHeX"
      },
      "execution_count": null,
      "outputs": []
    },
    {
      "cell_type": "code",
      "source": [
        "epochs= 450\n",
        "COST = []\n",
        "COST_T = []\n",
        "ACC = []\n",
        "for i in range(epochs):\n",
        "  total = 0\n",
        "  \n",
        "  model.train()\n",
        "  model.to(device)\n",
        "  for x, y in dataloader:\n",
        "    x, y = x.to(device), y.to(device)\n",
        "    yhat = model(x)\n",
        "    loss = crit(yhat, y)\n",
        "    #print(yhat, y)\n",
        "    optimizer.zero_grad()\n",
        "    loss.backward()\n",
        "    optimizer.step()\n",
        "    total += loss.item()\n",
        "\n",
        "  accuracy = 0\n",
        "  total_t = 0\n",
        "  \n",
        "  model.eval()\n",
        "  model.to('cpu')\n",
        "  for x, y in zip(ts_xx, ts_yy):\n",
        "    pred = model(x)\n",
        "    accuracy += (pred > .5).sum()    \n",
        "    #loss_t = crit(yhat, y)\n",
        "    #total_t += loss_t.item()\n",
        "  \n",
        "  ACC.append(100*accuracy/ts_xx.shape[0])\n",
        "  COST.append(total)\n",
        "  #COST_T.append(total_t)\n",
        "print('Accuracy final ', 100*accuracy/ts_xx.shape[0])"
      ],
      "metadata": {
        "id": "ICbHiIxbUbC5"
      },
      "execution_count": null,
      "outputs": []
    },
    {
      "cell_type": "code",
      "source": [
        "import matplotlib.pyplot as plt\n",
        "\n",
        "plt.plot(COST)\n",
        "plt.show()\n",
        "plt.plot(ACC)\n",
        "plt.show()"
      ],
      "metadata": {
        "colab": {
          "base_uri": "https://localhost:8080/",
          "height": 513
        },
        "id": "chlHgmC3ys4A",
        "outputId": "6ef81d35-bab8-4686-dc7f-acdbb7166270"
      },
      "execution_count": null,
      "outputs": [
        {
          "output_type": "display_data",
          "data": {
            "text/plain": [
              "<Figure size 432x288 with 1 Axes>"
            ],
            "image/png": "[encoded data removed]"
          },
          "metadata": {
            "needs_background": "light"
          }
        },
        {
          "output_type": "display_data",
          "data": {
            "text/plain": [
              "<Figure size 432x288 with 1 Axes>"
            ],
            "image/png": "[encoded data removed]"
          },
          "metadata": {
            "needs_background": "light"
          }
        }
      ]
    },
    {
      "cell_type": "code",
      "source": [
        "n = torch.tensor([1, 2, 3])\n",
        "nn = torch.tensor([1, 2, 3])\n",
        "\n",
        "\n",
        "for a, aa in zip(n , nn):\n",
        "  print(a, aa)"
      ],
      "metadata": {
        "id": "dHa1dQnZY-1R",
        "colab": {
          "base_uri": "https://localhost:8080/"
        },
        "outputId": "e1a947e7-a0ad-4677-cf16-2baa27105893"
      },
      "execution_count": null,
      "outputs": [
        {
          "output_type": "stream",
          "name": "stdout",
          "text": [
            "tensor(1) tensor(1)\n",
            "tensor(2) tensor(2)\n",
            "tensor(3) tensor(3)\n"
          ]
        }
      ]
    }
  ]
}